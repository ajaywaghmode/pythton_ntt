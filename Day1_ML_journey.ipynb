{
  "nbformat": 4,
  "nbformat_minor": 0,
  "metadata": {
    "colab": {
      "provenance": []
    },
    "kernelspec": {
      "name": "python3",
      "display_name": "Python 3"
    },
    "language_info": {
      "name": "python"
    }
  },
  "cells": [
    {
      "cell_type": "code",
      "execution_count": null,
      "metadata": {
        "colab": {
          "base_uri": "https://localhost:8080/"
        },
        "id": "HpmbKqI7jltH",
        "outputId": "0ec1bf68-5f68-4ec7-f746-ea081ec8cab5"
      },
      "outputs": [
        {
          "output_type": "stream",
          "name": "stdout",
          "text": [
            "hello world\n"
          ]
        }
      ],
      "source": [
        "print(\"hello world\")"
      ]
    },
    {
      "cell_type": "code",
      "source": [
        "ashdkjas"
      ],
      "metadata": {
        "id": "34ZbDQBAxLWX"
      },
      "execution_count": null,
      "outputs": []
    },
    {
      "cell_type": "code",
      "source": [
        "a=10\n",
        "print(id(a))"
      ],
      "metadata": {
        "id": "3FisC2TBaTLO",
        "outputId": "ecfa57a7-55fa-4863-c5f3-d76970e099d3",
        "colab": {
          "base_uri": "https://localhost:8080/"
        }
      },
      "execution_count": null,
      "outputs": [
        {
          "output_type": "stream",
          "name": "stdout",
          "text": [
            "10751144\n"
          ]
        }
      ]
    },
    {
      "cell_type": "code",
      "source": [
        "b=10\n",
        "print(id(b))"
      ],
      "metadata": {
        "id": "c-iNXtpVaTTh",
        "outputId": "fbbfa515-dafc-4ca0-bb81-dc5200ebcc62",
        "colab": {
          "base_uri": "https://localhost:8080/"
        }
      },
      "execution_count": null,
      "outputs": [
        {
          "output_type": "stream",
          "name": "stdout",
          "text": [
            "10751144\n"
          ]
        }
      ]
    },
    {
      "cell_type": "code",
      "source": [
        "a=b=c=10\n",
        "print(a,b,c)"
      ],
      "metadata": {
        "id": "n2PKMtnEaTXJ",
        "outputId": "8d5acb73-836d-428d-bd59-79c0cd164a10",
        "colab": {
          "base_uri": "https://localhost:8080/"
        }
      },
      "execution_count": null,
      "outputs": [
        {
          "output_type": "stream",
          "name": "stdout",
          "text": [
            "10 10 10\n"
          ]
        }
      ]
    },
    {
      "cell_type": "code",
      "source": [
        "for i in \"ajay\", \"aditya\":\n",
        "  print(i)"
      ],
      "metadata": {
        "id": "lTAwco9PaTaF",
        "outputId": "4830611e-5b5f-4610-a0e3-272997864abb",
        "colab": {
          "base_uri": "https://localhost:8080/"
        }
      },
      "execution_count": null,
      "outputs": [
        {
          "output_type": "stream",
          "name": "stdout",
          "text": [
            "ajay\n",
            "aditya\n"
          ]
        }
      ]
    },
    {
      "cell_type": "markdown",
      "source": [],
      "metadata": {
        "id": "TgYrAXVx6yu6"
      }
    },
    {
      "cell_type": "code",
      "source": [
        "for i in range(1,10,2):\n",
        "  if i % 2 == 0:\n",
        "    print(i,\"number is divisible by 2\")\n",
        "  else:\n",
        "    print(i,\"number is not divisible by 2\")"
      ],
      "metadata": {
        "id": "6D5q-KtZaTdK",
        "outputId": "499057b3-785d-4eed-c447-f666b1fc2534",
        "colab": {
          "base_uri": "https://localhost:8080/"
        }
      },
      "execution_count": null,
      "outputs": [
        {
          "output_type": "stream",
          "name": "stdout",
          "text": [
            "0 number is divisible by 2\n",
            "1 number is not divisible by 2\n",
            "2 number is divisible by 2\n",
            "3 number is not divisible by 2\n",
            "4 number is divisible by 2\n",
            "5 number is not divisible by 2\n",
            "6 number is divisible by 2\n",
            "7 number is not divisible by 2\n"
          ]
        }
      ]
    },
    {
      "cell_type": "code",
      "source": [
        "name_list = []\n",
        "for i in [ \"ajay\", \"aditya\", \"demo\", \"ajay\" ]:\n",
        "  name_list.append(i)\n",
        "print(name_list)\n",
        "name_list.count(\"ajay\")"
      ],
      "metadata": {
        "id": "jFm3uLVLaTf3",
        "outputId": "346fac0b-1acb-4896-b050-b8968a43a038",
        "colab": {
          "base_uri": "https://localhost:8080/"
        }
      },
      "execution_count": 3,
      "outputs": [
        {
          "output_type": "stream",
          "name": "stdout",
          "text": [
            "['ajay', 'aditya', 'demo', 'ajay']\n"
          ]
        },
        {
          "output_type": "execute_result",
          "data": {
            "text/plain": [
              "2"
            ]
          },
          "metadata": {},
          "execution_count": 3
        }
      ]
    },
    {
      "cell_type": "code",
      "source": [
        "a={1,2,2,3,4,5}\n",
        "print(a)"
      ],
      "metadata": {
        "colab": {
          "base_uri": "https://localhost:8080/"
        },
        "id": "pTdhL8SmMwKt",
        "outputId": "4c86468a-77e9-4657-e5b8-092a61e7c851"
      },
      "execution_count": 3,
      "outputs": [
        {
          "output_type": "stream",
          "name": "stdout",
          "text": [
            "{1, 2, 3, 4, 5}\n"
          ]
        }
      ]
    },
    {
      "cell_type": "code",
      "source": [
        "Name=\"code yug\"\n",
        "print(Name[-8:-4])"
      ],
      "metadata": {
        "colab": {
          "base_uri": "https://localhost:8080/"
        },
        "id": "CTDv-e4SNfwX",
        "outputId": "df6fc947-47c5-4594-f57b-04b040770dc4"
      },
      "execution_count": 21,
      "outputs": [
        {
          "output_type": "stream",
          "name": "stdout",
          "text": [
            "code\n"
          ]
        }
      ]
    },
    {
      "cell_type": "code",
      "source": [
        "string=\"Hello, World!\"\n",
        "print(string[-3:-1])"
      ],
      "metadata": {
        "colab": {
          "base_uri": "https://localhost:8080/"
        },
        "id": "LG9V51i5Ntnc",
        "outputId": "1165513a-d70e-4432-f3aa-3fe3a9f74a41"
      },
      "execution_count": 25,
      "outputs": [
        {
          "output_type": "stream",
          "name": "stdout",
          "text": [
            "ld\n"
          ]
        }
      ]
    },
    {
      "cell_type": "code",
      "source": [
        "a=10\n",
        "a+=1\n",
        "print(a)"
      ],
      "metadata": {
        "colab": {
          "base_uri": "https://localhost:8080/"
        },
        "id": "rY9kKcCxZFsP",
        "outputId": "67ff8971-68b4-4fd9-b315-87203f0ccec7"
      },
      "execution_count": 26,
      "outputs": [
        {
          "output_type": "stream",
          "name": "stdout",
          "text": [
            "11\n"
          ]
        }
      ]
    },
    {
      "cell_type": "code",
      "source": [
        "name_list=\"Ajay is my name and India is my country. I love India\"\n",
        "name = [\"Ajay\", 40]\n",
        "name_list.startswith(\"Aj\")\n",
        "name_list.replace(\"Ajay\", \"Aditya\")\n",
        "print(name_list)"
      ],
      "metadata": {
        "colab": {
          "base_uri": "https://localhost:8080/"
        },
        "id": "K-wj7GE_bwN0",
        "outputId": "3c0409ba-847b-4066-804a-1c4856b19d65"
      },
      "execution_count": 44,
      "outputs": [
        {
          "output_type": "stream",
          "name": "stdout",
          "text": [
            "Ajay is my name and India is my country. I love India\n"
          ]
        }
      ]
    },
    {
      "cell_type": "code",
      "source": [
        "a=[1,2,2,3,4,5]\n",
        "a.insert(2,55)\n",
        "print(a)"
      ],
      "metadata": {
        "colab": {
          "base_uri": "https://localhost:8080/"
        },
        "id": "uSGlOFf3dDfT",
        "outputId": "9cc9d7ef-a322-4c47-de26-13db453d2303"
      },
      "execution_count": 48,
      "outputs": [
        {
          "output_type": "stream",
          "name": "stdout",
          "text": [
            "[1, 2, 55, 2, 3, 4, 5]\n"
          ]
        }
      ]
    },
    {
      "cell_type": "code",
      "source": [
        "for i in range(3):\n",
        "  print(i)"
      ],
      "metadata": {
        "id": "y4BXl8HPyMbQ",
        "outputId": "a5400407-ff39-41a5-acdb-d8ffeb1f80df",
        "colab": {
          "base_uri": "https://localhost:8080/"
        }
      },
      "execution_count": 3,
      "outputs": [
        {
          "output_type": "stream",
          "name": "stdout",
          "text": [
            "0\n",
            "1\n",
            "2\n"
          ]
        }
      ]
    },
    {
      "cell_type": "code",
      "source": [
        "my_list = [5, 10, -2, 8, 20]"
      ],
      "metadata": {
        "id": "bNUGZm1db4o2"
      },
      "execution_count": null,
      "outputs": []
    }
  ]
}