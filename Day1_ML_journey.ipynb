{
  "nbformat": 4,
  "nbformat_minor": 0,
  "metadata": {
    "colab": {
      "provenance": []
    },
    "kernelspec": {
      "name": "python3",
      "display_name": "Python 3"
    },
    "language_info": {
      "name": "python"
    }
  },
  "cells": [
    {
      "cell_type": "code",
      "execution_count": null,
      "metadata": {
        "colab": {
          "base_uri": "https://localhost:8080/"
        },
        "id": "HpmbKqI7jltH",
        "outputId": "0ec1bf68-5f68-4ec7-f746-ea081ec8cab5"
      },
      "outputs": [
        {
          "output_type": "stream",
          "name": "stdout",
          "text": [
            "hello world\n"
          ]
        }
      ],
      "source": [
        "print(\"hello world\")"
      ]
    },
    {
      "cell_type": "code",
      "source": [
        "ashdkjas"
      ],
      "metadata": {
        "id": "34ZbDQBAxLWX"
      },
      "execution_count": null,
      "outputs": []
    },
    {
      "cell_type": "code",
      "source": [
        "a=10\n",
        "print(id(a))"
      ],
      "metadata": {
        "id": "3FisC2TBaTLO",
        "outputId": "ecfa57a7-55fa-4863-c5f3-d76970e099d3",
        "colab": {
          "base_uri": "https://localhost:8080/"
        }
      },
      "execution_count": 1,
      "outputs": [
        {
          "output_type": "stream",
          "name": "stdout",
          "text": [
            "10751144\n"
          ]
        }
      ]
    },
    {
      "cell_type": "code",
      "source": [
        "b=10\n",
        "print(id(b))"
      ],
      "metadata": {
        "id": "c-iNXtpVaTTh",
        "outputId": "fbbfa515-dafc-4ca0-bb81-dc5200ebcc62",
        "colab": {
          "base_uri": "https://localhost:8080/"
        }
      },
      "execution_count": 3,
      "outputs": [
        {
          "output_type": "stream",
          "name": "stdout",
          "text": [
            "10751144\n"
          ]
        }
      ]
    },
    {
      "cell_type": "code",
      "source": [
        "a=b=c=10\n",
        "print(a,b,c)"
      ],
      "metadata": {
        "id": "n2PKMtnEaTXJ",
        "outputId": "8d5acb73-836d-428d-bd59-79c0cd164a10",
        "colab": {
          "base_uri": "https://localhost:8080/"
        }
      },
      "execution_count": 5,
      "outputs": [
        {
          "output_type": "stream",
          "name": "stdout",
          "text": [
            "10 10 10\n"
          ]
        }
      ]
    },
    {
      "cell_type": "code",
      "source": [
        "for i in \"ajay\", \"aditya\":\n",
        "  print(i)"
      ],
      "metadata": {
        "id": "lTAwco9PaTaF",
        "outputId": "4830611e-5b5f-4610-a0e3-272997864abb",
        "colab": {
          "base_uri": "https://localhost:8080/"
        }
      },
      "execution_count": 4,
      "outputs": [
        {
          "output_type": "stream",
          "name": "stdout",
          "text": [
            "ajay\n",
            "aditya\n"
          ]
        }
      ]
    },
    {
      "cell_type": "markdown",
      "source": [],
      "metadata": {
        "id": "TgYrAXVx6yu6"
      }
    },
    {
      "cell_type": "code",
      "source": [
        "for i in range(1,10,2):\n",
        "  if i % 2 == 0:\n",
        "    print(i,\"number is divisible by 2\")\n",
        "  else:\n",
        "    print(i,\"number is not divisible by 2\")"
      ],
      "metadata": {
        "id": "6D5q-KtZaTdK",
        "outputId": "499057b3-785d-4eed-c447-f666b1fc2534",
        "colab": {
          "base_uri": "https://localhost:8080/"
        }
      },
      "execution_count": 5,
      "outputs": [
        {
          "output_type": "stream",
          "name": "stdout",
          "text": [
            "0 number is divisible by 2\n",
            "1 number is not divisible by 2\n",
            "2 number is divisible by 2\n",
            "3 number is not divisible by 2\n",
            "4 number is divisible by 2\n",
            "5 number is not divisible by 2\n",
            "6 number is divisible by 2\n",
            "7 number is not divisible by 2\n"
          ]
        }
      ]
    },
    {
      "cell_type": "code",
      "source": [
        "name_list = []\n",
        "for i in [ \"ajay\", \"aditya\" ]:\n",
        "  name_list.append(i)\n",
        "print(name_list)"
      ],
      "metadata": {
        "id": "jFm3uLVLaTf3",
        "outputId": "9ec2878c-3e47-47c5-f37c-bfa8b50004bd",
        "colab": {
          "base_uri": "https://localhost:8080/"
        }
      },
      "execution_count": 6,
      "outputs": [
        {
          "output_type": "stream",
          "name": "stdout",
          "text": [
            "['ajay', 'aditya']\n"
          ]
        }
      ]
    }
  ]
}